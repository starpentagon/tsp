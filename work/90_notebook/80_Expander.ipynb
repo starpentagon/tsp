{
 "cells": [
  {
   "cell_type": "code",
   "execution_count": 1,
   "metadata": {},
   "outputs": [],
   "source": [
    "import os\n",
    "import pandas as pd"
   ]
  },
  {
   "cell_type": "code",
   "execution_count": 2,
   "metadata": {},
   "outputs": [],
   "source": [
    "PRJ_DIR = os.path.join('/home', 'jovyan', 'work')\n",
    "MAIN_SRC = os.path.join(PRJ_DIR, 'main.cpp')"
   ]
  },
  {
   "cell_type": "code",
   "execution_count": 3,
   "metadata": {},
   "outputs": [],
   "source": [
    "expand_file_list = []\n",
    "\n",
    "with open(MAIN_SRC, 'r') as f:\n",
    "    lines = f.readlines()\n",
    "    \n",
    "    for line in lines:\n",
    "        line = line.strip()\n",
    "        \n",
    "        if \"#include\" in line and '\"' in line:\n",
    "            file = line.replace(\"#include\", \"\")\n",
    "            file = file.replace('\"', \"\")\n",
    "            file = file.replace(' ', \"\")\n",
    "            \n",
    "            expand_file_list.append(file)\n",
    "            \n",
    "            file = file.replace(\".hpp\", \".cpp\")\n",
    "            expand_file_list.append(file)\n",
    "            \n",
    "expand_file_list.append('main.cpp')"
   ]
  },
  {
   "cell_type": "code",
   "execution_count": 4,
   "metadata": {},
   "outputs": [
    {
     "data": {
      "text/plain": [
       "['XorShift.hpp',\n",
       " 'XorShift.cpp',\n",
       " 'Utility.hpp',\n",
       " 'Utility.cpp',\n",
       " 'Parameter.hpp',\n",
       " 'Parameter.cpp',\n",
       " 'SearchInfo.hpp',\n",
       " 'SearchInfo.cpp',\n",
       " 'State.hpp',\n",
       " 'State.cpp',\n",
       " 'main.cpp']"
      ]
     },
     "execution_count": 4,
     "metadata": {},
     "output_type": "execute_result"
    }
   ],
   "source": [
    "expand_file_list"
   ]
  },
  {
   "cell_type": "code",
   "execution_count": 5,
   "metadata": {},
   "outputs": [],
   "source": [
    "file_list = []\n",
    "\n",
    "for f in expand_file_list:\n",
    "    if '.hpp' in f:\n",
    "        file_list.append(f)\n",
    "\n",
    "for f in expand_file_list:\n",
    "    if '.cpp' in f:\n",
    "        file_list.append(f)"
   ]
  },
  {
   "cell_type": "code",
   "execution_count": 6,
   "metadata": {},
   "outputs": [],
   "source": [
    "expand_file_list = file_list"
   ]
  },
  {
   "cell_type": "code",
   "execution_count": 7,
   "metadata": {},
   "outputs": [],
   "source": [
    "expanded_source = [\"#define NDEBUG\\n\", '#pragma GCC optimize(\"O3\")\\n', '//#pragma GCC optimize(\"unroll-loops\")\\n']\n",
    "\n",
    "# debugコマンドをオフ\n",
    "debug_list = ['debug', 'debug2', 'debug_st', 'debug_sa', 'debug_bm', 'debug_gd', 'debug_hc', 'debug_mn']\n",
    "\n",
    "for debug_cmd in debug_list:\n",
    "    expanded_source.append(\"#define {}(...) ;\\n\".format(debug_cmd))\n",
    "\n",
    "chmax_def = False\n",
    "chmin_def = False\n",
    "\n",
    "for file in expand_file_list:\n",
    "    debug_file = False\n",
    "    \n",
    "    for debug_cmd in debug_list:\n",
    "        if '{}.cpp'.format(debug_cmd) in file:\n",
    "            debug_file = True\n",
    "            print('Debug file: ' + file)\n",
    "    \n",
    "    if debug_file:\n",
    "        continue\n",
    "    \n",
    "    file_name = os.path.join(PRJ_DIR, file)\n",
    "    \n",
    "    with open(file_name, 'r') as f:\n",
    "        for line in f.readlines():\n",
    "            if \"#include\" in line and '\"' in line:\n",
    "                continue\n",
    "                \n",
    "            if \"#pragma once\" in line:\n",
    "                continue\n",
    "                \n",
    "            if 'bool chmax' in line:\n",
    "                if chmax_def:\n",
    "                    continue\n",
    "                else:\n",
    "                    chmax_def = True\n",
    "                    \n",
    "            if 'bool chmin' in line:\n",
    "                if chmin_def:\n",
    "                    continue\n",
    "                else:\n",
    "                    chmin_def = True\n",
    "                    \n",
    "            expanded_source.append(line)\n",
    "\n",
    "    expanded_source.append(\"\\n\")"
   ]
  },
  {
   "cell_type": "markdown",
   "metadata": {},
   "source": [
    "## combined.cppの生成"
   ]
  },
  {
   "cell_type": "code",
   "execution_count": 8,
   "metadata": {},
   "outputs": [],
   "source": [
    "with open(\"../combined.cpp\", \"w\") as f:\n",
    "    for line in expanded_source:\n",
    "        f.writelines(line)"
   ]
  },
  {
   "cell_type": "code",
   "execution_count": null,
   "metadata": {},
   "outputs": [],
   "source": []
  },
  {
   "cell_type": "markdown",
   "metadata": {},
   "source": [
    "## Makefileの生成"
   ]
  },
  {
   "cell_type": "code",
   "execution_count": 9,
   "metadata": {},
   "outputs": [],
   "source": [
    "source_file_list = []\n",
    "\n",
    "for source_file in expand_file_list:\n",
    "    debug_file = False\n",
    "    \n",
    "    for debug_cmd in debug_list:\n",
    "        if '{}.cpp'.format(debug_cmd) in source_file:\n",
    "            debug_file = True\n",
    "            print('Debug file: ' + source_file)\n",
    "    \n",
    "    if debug_file:\n",
    "        continue\n",
    "        \n",
    "    if '.hpp' in source_file:\n",
    "        continue\n",
    "        \n",
    "    source_file_list.append(source_file.replace('.cpp', ''))"
   ]
  },
  {
   "cell_type": "code",
   "execution_count": 10,
   "metadata": {},
   "outputs": [
    {
     "data": {
      "text/plain": [
       "['XorShift', 'Utility', 'Parameter', 'SearchInfo', 'State', 'main']"
      ]
     },
     "execution_count": 10,
     "metadata": {},
     "output_type": "execute_result"
    }
   ],
   "source": [
    "source_file_list"
   ]
  },
  {
   "cell_type": "code",
   "execution_count": 11,
   "metadata": {},
   "outputs": [],
   "source": [
    "make_file_lines = []\n",
    "\n",
    "make_file_lines.append('CC = ccache g++')\n",
    "make_file_lines.append('#CFLAGS = -g -Wall -std=c++17 -O0 -fsanitize=undefined,address -DLOCAL $(CFLAGS_EXTRA)')\n",
    "make_file_lines.append('')\n",
    "make_file_lines.append('# core dump出力用')\n",
    "make_file_lines.append('#CFLAGS = -g -Wall --std=c++17 -O0 -DLOCAL $(CFLAGS_EXTRA)')\n",
    "make_file_lines.append('')\n",
    "make_file_lines.append('CFLAGS = -Wall --std=c++17 -O3 -DLOCAL $(CFLAGS_EXTRA)')\n",
    "make_file_lines.append('#CFLAGS = -Wall --std=c++17 -O3 -funroll-loops -DLOCAL $(CFLAGS_EXTRA)')\n",
    "make_file_lines.append('#CFLAGS = -pg -g -Wall --std=c++17 -O0 -DLOCAL $(CFLAGS_EXTRA)')\n",
    "make_file_lines.append('')\n",
    "\n",
    "# target objects\n",
    "make_str = \"ALL:\"\n",
    "\n",
    "for source_file in source_file_list:\n",
    "    make_str += \" {}.o\".format(source_file)\n",
    "    \n",
    "make_file_lines.append(make_str)\n",
    "make_file_lines.append(\"\\t$(CC) $(CFLAGS) -o main$(POSIX) \\\\\")\n",
    "\n",
    "for source_file in source_file_list:\n",
    "    make_file_lines.append(\"\\t{}.o \\\\\".format(source_file))\n",
    "\n",
    "make_file_lines.append('')\n",
    "make_file_lines.append('clean:')\n",
    "make_file_lines.append('\\trm main *.o')\n",
    "\n",
    "make_file_lines.append('')\n",
    "make_file_lines.append('run:')\n",
    "make_file_lines.append('\\t./main')\n",
    "\n",
    "make_file_lines.append('')\n",
    "make_file_lines.append('.cpp.o:')\n",
    "make_file_lines.append('\\t$(CC) $(CFLAGS) -o $@ -c $<')\n",
    "make_file_lines.append('')\n"
   ]
  },
  {
   "cell_type": "code",
   "execution_count": 12,
   "metadata": {},
   "outputs": [],
   "source": [
    "with open(\"../Makefile\", \"w\") as f:\n",
    "    for line in make_file_lines:\n",
    "        f.writelines(line + '\\n')"
   ]
  },
  {
   "cell_type": "code",
   "execution_count": null,
   "metadata": {},
   "outputs": [],
   "source": []
  },
  {
   "cell_type": "markdown",
   "metadata": {},
   "source": [
    "## サブディレクトリ用Makefile(Optunaチューニングetc)"
   ]
  },
  {
   "cell_type": "code",
   "execution_count": 13,
   "metadata": {},
   "outputs": [],
   "source": [
    "make_file_lines = []\n",
    "\n",
    "make_file_lines.append('CC = ccache g++')\n",
    "make_file_lines.append('#CFLAGS = -g -Wall -std=c++17 -O0 -fsanitize=undefined,address -DLOCAL $(CFLAGS_EXTRA)')\n",
    "make_file_lines.append('')\n",
    "make_file_lines.append('# core dump出力用')\n",
    "make_file_lines.append('#CFLAGS = -g -Wall --std=c++17 -O0 -DLOCAL $(CFLAGS_EXTRA)')\n",
    "make_file_lines.append('')\n",
    "make_file_lines.append('CFLAGS = -Wall --std=c++17 -O3 -DLOCAL $(CFLAGS_EXTRA)')\n",
    "make_file_lines.append('#CFLAGS = -Wall --std=c++17 -O3 -funroll-loops -DLOCAL $(CFLAGS_EXTRA)')\n",
    "make_file_lines.append('#CFLAGS = -pg -g -Wall --std=c++17 -O0 -DLOCAL $(CFLAGS_EXTRA)')\n",
    "make_file_lines.append('')\n",
    "\n",
    "# target objects\n",
    "make_str = \"ALL:\"\n",
    "\n",
    "for source_file in source_file_list:\n",
    "    make_str += \" {}.o\".format(source_file)\n",
    "    \n",
    "make_file_lines.append(make_str)\n",
    "make_file_lines.append(\"\\t$(CC) $(CFLAGS) -o main$(POSIX) \\\\\")\n",
    "\n",
    "for source_file in source_file_list:\n",
    "    make_file_lines.append(\"\\t{}.o \\\\\".format(source_file))\n",
    "\n",
    "make_file_lines.append('')\n",
    "make_file_lines.append('clean:')\n",
    "make_file_lines.append('\\trm main *.o')\n",
    "\n",
    "make_file_lines.append('')\n",
    "make_file_lines.append('run:')\n",
    "make_file_lines.append('\\t./main')\n",
    "\n",
    "make_file_lines.append('')\n",
    "\n",
    "for source_file in source_file_list:\n",
    "    if \"main\" in source_file:\n",
    "        make_file_lines.append(\"{}.o: {}.cpp\".format(source_file, source_file))\n",
    "    else:\n",
    "        make_file_lines.append(\"{}.o: ../{}.cpp\".format(source_file, source_file))\n",
    "    \n",
    "    make_file_lines.append('\\t$(CC) $(CFLAGS) -o $@ -c $<')\n",
    "    make_file_lines.append('')\n",
    "\n",
    "make_file_lines.append('.cpp.o:')\n",
    "make_file_lines.append('\\t$(CC) $(CFLAGS) -o $@ -c $<')\n",
    "make_file_lines.append('')\n"
   ]
  },
  {
   "cell_type": "code",
   "execution_count": 14,
   "metadata": {},
   "outputs": [],
   "source": [
    "with open(\"../Makefile_sub.gen\", \"w\") as f:\n",
    "    for line in make_file_lines:\n",
    "        f.writelines(line + '\\n')"
   ]
  },
  {
   "cell_type": "code",
   "execution_count": null,
   "metadata": {},
   "outputs": [],
   "source": []
  }
 ],
 "metadata": {
  "kernelspec": {
   "display_name": "Python 3 (ipykernel)",
   "language": "python",
   "name": "python3"
  },
  "language_info": {
   "codemirror_mode": {
    "name": "ipython",
    "version": 3
   },
   "file_extension": ".py",
   "mimetype": "text/x-python",
   "name": "python",
   "nbconvert_exporter": "python",
   "pygments_lexer": "ipython3",
   "version": "3.11.6"
  }
 },
 "nbformat": 4,
 "nbformat_minor": 4
}
