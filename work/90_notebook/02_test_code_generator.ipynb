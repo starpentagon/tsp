{
 "cells": [
  {
   "cell_type": "code",
   "execution_count": 1,
   "id": "6ba3f9dc-f077-408b-a02b-9d533dccc471",
   "metadata": {},
   "outputs": [
    {
     "name": "stdout",
     "output_type": "stream",
     "text": [
      "            elem_cnt = 3\n",
      "\n",
      "            tour = str(res.stderr.decode('utf-8').split()[-elem_cnt + 0].replace('tour=', ''))\n",
      "            distance = int(res.stderr.decode('utf-8').split()[-elem_cnt + 1].replace('distance=', ''))\n",
      "            e_time_micro_sec = int(res.stderr.decode('utf-8').split()[-elem_cnt + 2].replace('e_time_micro_sec=', ''))\n",
      "\n",
      "            solve_result.append(tour)\n",
      "            solve_result.append(distance)\n",
      "            solve_result.append(e_time_micro_sec)\n",
      "            solve_result.append(result)\n"
     ]
    }
   ],
   "source": [
    "# run_test用のコード生成\n",
    "elem_list = [\n",
    "    ('tour', 'str'),\n",
    "    ('distance', 'int'),\n",
    "    ('e_time_micro_sec', 'int'),\n",
    "    ]\n",
    "\n",
    "if True:\n",
    "    # Parse   \n",
    "    tab_str = ' ' * 12\n",
    "    \n",
    "    print(tab_str + 'elem_cnt = {}'.format(len(elem_list)))\n",
    "    print()\n",
    "    \n",
    "    for i in range(len(elem_list)):\n",
    "        elem, elem_type = elem_list[i]\n",
    "        elem_lower = elem.lower()\n",
    "        \n",
    "        parse_str = \"{} = {}(res.stderr.decode('utf-8').split()[-elem_cnt + {}].replace('{}=', ''))\".format(elem_lower, elem_type, i, elem)\n",
    "        print(tab_str + parse_str)\n",
    "        \n",
    "    print()\n",
    "    \n",
    "    # solve_resultへの格納\n",
    "    format_elem_list = []\n",
    "    \n",
    "    for elem, elem_type in elem_list:\n",
    "        if elem == \"Result\":\n",
    "            continue\n",
    "            \n",
    "        format_elem_list.append(elem.lower())\n",
    "    \n",
    "    format_elem_list.append(\"result\")\n",
    "    \n",
    "    for elem in format_elem_list:\n",
    "        append_str = \"solve_result.append({})\".format(elem)\n",
    "        print(tab_str + append_str)\n",
    "    "
   ]
  },
  {
   "cell_type": "code",
   "execution_count": 3,
   "id": "8e994279-8c6e-47d8-acec-da136b690756",
   "metadata": {},
   "outputs": [
    {
     "name": "stdout",
     "output_type": "stream",
     "text": [
      "    cols = ['testset', 'seed', 'time', 'tour', 'distance', 'e_time_micro_sec', 'result']\n",
      "    result_df.columns = cols\n"
     ]
    }
   ],
   "source": [
    "# 結果の整形用コード生成\n",
    "if True:\n",
    "    col_str = \"    cols = ['testset', 'seed', 'time'\"\n",
    "    \n",
    "    for elem in format_elem_list:\n",
    "        col_str += \", '{}'\".format(elem)\n",
    "    col_str += \"]\"\n",
    "    \n",
    "    print(col_str)\n",
    "    print(\"    result_df.columns = cols\")"
   ]
  },
  {
   "cell_type": "code",
   "execution_count": 5,
   "id": "aceff94f-f6a7-4f84-94f8-14d7e0253d20",
   "metadata": {},
   "outputs": [
    {
     "name": "stdout",
     "output_type": "stream",
     "text": [
      "            'distance_mean': [np.mean(test_result_df['distance'])],\n",
      "            'e_time_micro_sec_mean': [np.mean(test_result_df['e_time_micro_sec'])],\n"
     ]
    }
   ],
   "source": [
    "# 全体サマリ用コード\n",
    "elem_list = [\n",
    "    ('distance', 'mean', 'np.mean'),\n",
    "    ('e_time_micro_sec', 'mean', 'np.mean'),\n",
    "    ]\n",
    "\n",
    "if True:\n",
    "    tab_str = ' ' * 12\n",
    "    \n",
    "    for col, suffix, oper in elem_list:\n",
    "        kv_str = \"'{}_{}': [{}(test_result_df['{}'])],\".format(col, suffix, oper, col)\n",
    "        print(tab_str + kv_str)"
   ]
  },
  {
   "cell_type": "code",
   "execution_count": null,
   "id": "f9d51ad0-c4a5-4eae-82df-3d96d6bd30c6",
   "metadata": {},
   "outputs": [],
   "source": []
  }
 ],
 "metadata": {
  "kernelspec": {
   "display_name": "Python 3 (ipykernel)",
   "language": "python",
   "name": "python3"
  },
  "language_info": {
   "codemirror_mode": {
    "name": "ipython",
    "version": 3
   },
   "file_extension": ".py",
   "mimetype": "text/x-python",
   "name": "python",
   "nbconvert_exporter": "python",
   "pygments_lexer": "ipython3",
   "version": "3.11.6"
  }
 },
 "nbformat": 4,
 "nbformat_minor": 5
}
